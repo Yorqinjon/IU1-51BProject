{
 "cells": [
  {
   "cell_type": "markdown",
   "id": "950a804e",
   "metadata": {},
   "source": [
    "## Numpy"
   ]
  },
  {
   "cell_type": "markdown",
   "id": "27c42dee",
   "metadata": {},
   "source": [
    "1. Создайте вектор состоящий из чисел от 0 до 11 включительно. "
   ]
  },
  {
   "cell_type": "code",
   "execution_count": 1,
   "id": "1ea39ff8",
   "metadata": {},
   "outputs": [
    {
     "name": "stdout",
     "output_type": "stream",
     "text": [
      "[ 0  1  2  3  4  5  6  7  8  9 10 11]\n"
     ]
    }
   ],
   "source": [
    "import numpy as np\n",
    "\n",
    "vector = np.array([ 0,  1,  2,  3,  4,  5,  6,  7,  8,  9, 10, 11])\n",
    "print (vector)"
   ]
  },
  {
   "cell_type": "markdown",
   "id": "b9ae9f33",
   "metadata": {},
   "source": [
    "2. Измените размерность вектора и превратите его в матрицу 3 х 4"
   ]
  },
  {
   "cell_type": "code",
   "execution_count": 2,
   "id": "348a1252",
   "metadata": {},
   "outputs": [
    {
     "name": "stdout",
     "output_type": "stream",
     "text": [
      "[[ 0  1  2  3]\n",
      " [ 4  5  6  7]\n",
      " [ 8  9 10 11]]\n"
     ]
    }
   ],
   "source": [
    "matrix = vector.reshape((3,4))\n",
    "print(matrix)"
   ]
  },
  {
   "cell_type": "markdown",
   "id": "b0e1ec7c",
   "metadata": {},
   "source": [
    "3. Найдите произведение полученной матрицы и вектора [2, 3, 5, 6]"
   ]
  },
  {
   "cell_type": "code",
   "execution_count": 3,
   "id": "67a33235",
   "metadata": {
    "scrolled": true
   },
   "outputs": [
    {
     "data": {
      "text/plain": [
       "array([ 31,  95, 159])"
      ]
     },
     "execution_count": 3,
     "metadata": {},
     "output_type": "execute_result"
    }
   ],
   "source": [
    "v = np.array([2,3,5,6])\n",
    "matrix.dot(v)"
   ]
  },
  {
   "cell_type": "markdown",
   "id": "df2cd617",
   "metadata": {},
   "source": [
    "4. Из матрицы из пункта 2 сделайте квадратную матрицу состоящую из строк с индексами 0, 1, 3"
   ]
  },
  {
   "cell_type": "code",
   "execution_count": 57,
   "id": "00ac1025",
   "metadata": {},
   "outputs": [
    {
     "name": "stdout",
     "output_type": "stream",
     "text": [
      "[[1 3]\n",
      " [5 7]]\n"
     ]
    }
   ],
   "source": [
    "Matrix = matrix[:2,[1,3]]\n",
    "print(Matrix)"
   ]
  },
  {
   "cell_type": "markdown",
   "id": "022cdf66",
   "metadata": {},
   "source": [
    "5. Найдите обратную матрицу к полученной в пункте 4."
   ]
  },
  {
   "cell_type": "code",
   "execution_count": 58,
   "id": "323110d4",
   "metadata": {},
   "outputs": [
    {
     "data": {
      "text/plain": [
       "array([[1, 3],\n",
       "       [5, 7]])"
      ]
     },
     "execution_count": 58,
     "metadata": {},
     "output_type": "execute_result"
    }
   ],
   "source": [
    "Matrix"
   ]
  },
  {
   "cell_type": "code",
   "execution_count": 59,
   "id": "682864ef",
   "metadata": {},
   "outputs": [],
   "source": [
    "Matrix_inv= np.linalg.inv(Matrix)"
   ]
  },
  {
   "cell_type": "code",
   "execution_count": 63,
   "id": "7050d536",
   "metadata": {},
   "outputs": [
    {
     "data": {
      "text/plain": [
       "array([[-0.875,  0.375],\n",
       "       [ 0.625, -0.125]])"
      ]
     },
     "execution_count": 63,
     "metadata": {},
     "output_type": "execute_result"
    }
   ],
   "source": [
    "Matrix_inv"
   ]
  },
  {
   "cell_type": "markdown",
   "id": "6164cfdd",
   "metadata": {},
   "source": [
    "6. Проверьте является ли она обратной?"
   ]
  },
  {
   "cell_type": "code",
   "execution_count": 65,
   "id": "d2a72959",
   "metadata": {},
   "outputs": [
    {
     "data": {
      "text/plain": [
       "array([[ 1.00000000e+00, -5.55111512e-17],\n",
       "       [ 0.00000000e+00,  1.00000000e+00]])"
      ]
     },
     "execution_count": 65,
     "metadata": {},
     "output_type": "execute_result"
    }
   ],
   "source": [
    "Matrix.dot(Matrix_inv)"
   ]
  },
  {
   "cell_type": "markdown",
   "id": "d9c7733b",
   "metadata": {},
   "source": [
    "## Pandas"
   ]
  },
  {
   "cell_type": "markdown",
   "id": "f456f094",
   "metadata": {},
   "source": [
    "1. Загрузите данные из https://raw.githubusercontent.com/alexeygrigorev/mlbookcamp-code/master/chapter-02-car-price/data.csv в DataFrame. Воспользуйтесь одним из способов предложенных на занятии."
   ]
  },
  {
   "cell_type": "code",
   "execution_count": 39,
   "id": "1554cb96",
   "metadata": {},
   "outputs": [
    {
     "name": "stdout",
     "output_type": "stream",
     "text": [
      "Requirement already satisfied: wget in c:\\users\\asus\\anaconda3\\lib\\site-packages (3.2)\n",
      "Note: you may need to restart the kernel to use updated packages.\n"
     ]
    }
   ],
   "source": [
    "pip install wget"
   ]
  },
  {
   "cell_type": "code",
   "execution_count": 40,
   "id": "36f99e4b",
   "metadata": {},
   "outputs": [
    {
     "data": {
      "text/plain": [
       "'data (2).csv'"
      ]
     },
     "execution_count": 40,
     "metadata": {},
     "output_type": "execute_result"
    }
   ],
   "source": [
    "import pandas as pd\n",
    "import wget\n",
    "wget.download('https://raw.githubusercontent.com/alexeygrigorev/mlbookcamp-code/master/chapter-02-car-price/data.csv', 'data.csv')"
   ]
  },
  {
   "cell_type": "markdown",
   "id": "2a017741",
   "metadata": {},
   "source": [
    "2. Выведите несколько первых строк таблицы. "
   ]
  },
  {
   "cell_type": "code",
   "execution_count": 70,
   "id": "c9753303",
   "metadata": {},
   "outputs": [],
   "source": [
    "data = [\n",
    "  ['BMW','1 Series M', 2011,'premium unleaded (required)', 335, 6,'MANUAL','rear wheel drive',\n",
    "    2,'\"Factory Tuner,Luxury,High-Performance\"','Compact','Coupe', 26, 19, 3916, 46135],\n",
    "  ['BMW','1 Series',2011,'premium unleaded (required)',300,6,'MANUAL','rear wheel drive',\n",
    "   2,'\"Luxury,Performance\"','Compact','Convertible',28,19,3916,40650],\n",
    "  ['BMW','1 Series',2011,'premium unleaded (required)',300,6,'MANUAL','rear wheel drive',\n",
    "   2,'\"Luxury,High-Performance\"','Compact','Coupe',28,20,3916,36350],\n",
    "  ['Audi', 100, 1992,'regular unleaded','172','6','MANUAL','front wheel drive',\n",
    "   4,'Luxury','Midsize','Sedan',24,17,3105,2000],\n",
    "  ['FIAT','124 Spider',2017,'premium unleaded (recommended)',160,4,'MANUAL','rear wheel drive',\n",
    "   2,'Performance','Compact','Convertible',35,26,819,27495]\n",
    "]\n",
    "\n",
    "\n",
    "columns = [\n",
    "    'Make','Model','Year','Engine Fuel Type','Engine HP','Engine Cylinders','Transmission Type','Driven_Wheels',\n",
    "    'Number of Doors','Market Category','Vehicle Size','Vehicle Style','highway MPG','city mpg','Popularity','MSRP'\n",
    "]"
   ]
  },
  {
   "cell_type": "code",
   "execution_count": 71,
   "id": "095030ca",
   "metadata": {},
   "outputs": [
    {
     "data": {
      "text/html": [
       "<div>\n",
       "<style scoped>\n",
       "    .dataframe tbody tr th:only-of-type {\n",
       "        vertical-align: middle;\n",
       "    }\n",
       "\n",
       "    .dataframe tbody tr th {\n",
       "        vertical-align: top;\n",
       "    }\n",
       "\n",
       "    .dataframe thead th {\n",
       "        text-align: right;\n",
       "    }\n",
       "</style>\n",
       "<table border=\"1\" class=\"dataframe\">\n",
       "  <thead>\n",
       "    <tr style=\"text-align: right;\">\n",
       "      <th></th>\n",
       "      <th>Make</th>\n",
       "      <th>Model</th>\n",
       "      <th>Year</th>\n",
       "      <th>Engine Fuel Type</th>\n",
       "      <th>Engine HP</th>\n",
       "      <th>Engine Cylinders</th>\n",
       "      <th>Transmission Type</th>\n",
       "      <th>Driven_Wheels</th>\n",
       "      <th>Number of Doors</th>\n",
       "      <th>Market Category</th>\n",
       "      <th>Vehicle Size</th>\n",
       "      <th>Vehicle Style</th>\n",
       "      <th>highway MPG</th>\n",
       "      <th>city mpg</th>\n",
       "      <th>Popularity</th>\n",
       "      <th>MSRP</th>\n",
       "    </tr>\n",
       "  </thead>\n",
       "  <tbody>\n",
       "    <tr>\n",
       "      <th>0</th>\n",
       "      <td>BMW</td>\n",
       "      <td>1 Series M</td>\n",
       "      <td>2011</td>\n",
       "      <td>premium unleaded (required)</td>\n",
       "      <td>335</td>\n",
       "      <td>6</td>\n",
       "      <td>MANUAL</td>\n",
       "      <td>rear wheel drive</td>\n",
       "      <td>2</td>\n",
       "      <td>\"Factory Tuner,Luxury,High-Performance\"</td>\n",
       "      <td>Compact</td>\n",
       "      <td>Coupe</td>\n",
       "      <td>26</td>\n",
       "      <td>19</td>\n",
       "      <td>3916</td>\n",
       "      <td>46135</td>\n",
       "    </tr>\n",
       "    <tr>\n",
       "      <th>1</th>\n",
       "      <td>BMW</td>\n",
       "      <td>1 Series</td>\n",
       "      <td>2011</td>\n",
       "      <td>premium unleaded (required)</td>\n",
       "      <td>300</td>\n",
       "      <td>6</td>\n",
       "      <td>MANUAL</td>\n",
       "      <td>rear wheel drive</td>\n",
       "      <td>2</td>\n",
       "      <td>\"Luxury,Performance\"</td>\n",
       "      <td>Compact</td>\n",
       "      <td>Convertible</td>\n",
       "      <td>28</td>\n",
       "      <td>19</td>\n",
       "      <td>3916</td>\n",
       "      <td>40650</td>\n",
       "    </tr>\n",
       "    <tr>\n",
       "      <th>2</th>\n",
       "      <td>BMW</td>\n",
       "      <td>1 Series</td>\n",
       "      <td>2011</td>\n",
       "      <td>premium unleaded (required)</td>\n",
       "      <td>300</td>\n",
       "      <td>6</td>\n",
       "      <td>MANUAL</td>\n",
       "      <td>rear wheel drive</td>\n",
       "      <td>2</td>\n",
       "      <td>\"Luxury,High-Performance\"</td>\n",
       "      <td>Compact</td>\n",
       "      <td>Coupe</td>\n",
       "      <td>28</td>\n",
       "      <td>20</td>\n",
       "      <td>3916</td>\n",
       "      <td>36350</td>\n",
       "    </tr>\n",
       "    <tr>\n",
       "      <th>3</th>\n",
       "      <td>Audi</td>\n",
       "      <td>100</td>\n",
       "      <td>1992</td>\n",
       "      <td>regular unleaded</td>\n",
       "      <td>172</td>\n",
       "      <td>6</td>\n",
       "      <td>MANUAL</td>\n",
       "      <td>front wheel drive</td>\n",
       "      <td>4</td>\n",
       "      <td>Luxury</td>\n",
       "      <td>Midsize</td>\n",
       "      <td>Sedan</td>\n",
       "      <td>24</td>\n",
       "      <td>17</td>\n",
       "      <td>3105</td>\n",
       "      <td>2000</td>\n",
       "    </tr>\n",
       "    <tr>\n",
       "      <th>4</th>\n",
       "      <td>FIAT</td>\n",
       "      <td>124 Spider</td>\n",
       "      <td>2017</td>\n",
       "      <td>premium unleaded (recommended)</td>\n",
       "      <td>160</td>\n",
       "      <td>4</td>\n",
       "      <td>MANUAL</td>\n",
       "      <td>rear wheel drive</td>\n",
       "      <td>2</td>\n",
       "      <td>Performance</td>\n",
       "      <td>Compact</td>\n",
       "      <td>Convertible</td>\n",
       "      <td>35</td>\n",
       "      <td>26</td>\n",
       "      <td>819</td>\n",
       "      <td>27495</td>\n",
       "    </tr>\n",
       "  </tbody>\n",
       "</table>\n",
       "</div>"
      ],
      "text/plain": [
       "   Make       Model  Year                Engine Fuel Type Engine HP  \\\n",
       "0   BMW  1 Series M  2011     premium unleaded (required)       335   \n",
       "1   BMW    1 Series  2011     premium unleaded (required)       300   \n",
       "2   BMW    1 Series  2011     premium unleaded (required)       300   \n",
       "3  Audi         100  1992                regular unleaded       172   \n",
       "4  FIAT  124 Spider  2017  premium unleaded (recommended)       160   \n",
       "\n",
       "  Engine Cylinders Transmission Type      Driven_Wheels  Number of Doors  \\\n",
       "0                6            MANUAL   rear wheel drive                2   \n",
       "1                6            MANUAL   rear wheel drive                2   \n",
       "2                6            MANUAL   rear wheel drive                2   \n",
       "3                6            MANUAL  front wheel drive                4   \n",
       "4                4            MANUAL   rear wheel drive                2   \n",
       "\n",
       "                           Market Category Vehicle Size Vehicle Style  \\\n",
       "0  \"Factory Tuner,Luxury,High-Performance\"      Compact         Coupe   \n",
       "1                     \"Luxury,Performance\"      Compact   Convertible   \n",
       "2                \"Luxury,High-Performance\"      Compact         Coupe   \n",
       "3                                   Luxury      Midsize         Sedan   \n",
       "4                              Performance      Compact   Convertible   \n",
       "\n",
       "   highway MPG  city mpg  Popularity   MSRP  \n",
       "0           26        19        3916  46135  \n",
       "1           28        19        3916  40650  \n",
       "2           28        20        3916  36350  \n",
       "3           24        17        3105   2000  \n",
       "4           35        26         819  27495  "
      ]
     },
     "execution_count": 71,
     "metadata": {},
     "output_type": "execute_result"
    }
   ],
   "source": [
    "pd.DataFrame(data, columns=columns)"
   ]
  },
  {
   "cell_type": "markdown",
   "id": "a95f4a48",
   "metadata": {},
   "source": [
    "3. Отфильруйте машины по марке и оставьте только строки с автомобилями BMW. "
   ]
  },
  {
   "cell_type": "code",
   "execution_count": 74,
   "id": "648857e8",
   "metadata": {},
   "outputs": [],
   "source": [
    "df = pd.DataFrame(data, columns=columns)"
   ]
  },
  {
   "cell_type": "code",
   "execution_count": 75,
   "id": "241cbe25",
   "metadata": {},
   "outputs": [
    {
     "data": {
      "text/html": [
       "<div>\n",
       "<style scoped>\n",
       "    .dataframe tbody tr th:only-of-type {\n",
       "        vertical-align: middle;\n",
       "    }\n",
       "\n",
       "    .dataframe tbody tr th {\n",
       "        vertical-align: top;\n",
       "    }\n",
       "\n",
       "    .dataframe thead th {\n",
       "        text-align: right;\n",
       "    }\n",
       "</style>\n",
       "<table border=\"1\" class=\"dataframe\">\n",
       "  <thead>\n",
       "    <tr style=\"text-align: right;\">\n",
       "      <th></th>\n",
       "      <th>Make</th>\n",
       "      <th>Model</th>\n",
       "      <th>Year</th>\n",
       "      <th>Engine Fuel Type</th>\n",
       "      <th>Engine HP</th>\n",
       "      <th>Engine Cylinders</th>\n",
       "      <th>Transmission Type</th>\n",
       "      <th>Driven_Wheels</th>\n",
       "      <th>Number of Doors</th>\n",
       "      <th>Market Category</th>\n",
       "      <th>Vehicle Size</th>\n",
       "      <th>Vehicle Style</th>\n",
       "      <th>highway MPG</th>\n",
       "      <th>city mpg</th>\n",
       "      <th>Popularity</th>\n",
       "      <th>MSRP</th>\n",
       "    </tr>\n",
       "  </thead>\n",
       "  <tbody>\n",
       "    <tr>\n",
       "      <th>0</th>\n",
       "      <td>BMW</td>\n",
       "      <td>1 Series M</td>\n",
       "      <td>2011</td>\n",
       "      <td>premium unleaded (required)</td>\n",
       "      <td>335</td>\n",
       "      <td>6</td>\n",
       "      <td>MANUAL</td>\n",
       "      <td>rear wheel drive</td>\n",
       "      <td>2</td>\n",
       "      <td>\"Factory Tuner,Luxury,High-Performance\"</td>\n",
       "      <td>Compact</td>\n",
       "      <td>Coupe</td>\n",
       "      <td>26</td>\n",
       "      <td>19</td>\n",
       "      <td>3916</td>\n",
       "      <td>46135</td>\n",
       "    </tr>\n",
       "    <tr>\n",
       "      <th>1</th>\n",
       "      <td>BMW</td>\n",
       "      <td>1 Series</td>\n",
       "      <td>2011</td>\n",
       "      <td>premium unleaded (required)</td>\n",
       "      <td>300</td>\n",
       "      <td>6</td>\n",
       "      <td>MANUAL</td>\n",
       "      <td>rear wheel drive</td>\n",
       "      <td>2</td>\n",
       "      <td>\"Luxury,Performance\"</td>\n",
       "      <td>Compact</td>\n",
       "      <td>Convertible</td>\n",
       "      <td>28</td>\n",
       "      <td>19</td>\n",
       "      <td>3916</td>\n",
       "      <td>40650</td>\n",
       "    </tr>\n",
       "    <tr>\n",
       "      <th>2</th>\n",
       "      <td>BMW</td>\n",
       "      <td>1 Series</td>\n",
       "      <td>2011</td>\n",
       "      <td>premium unleaded (required)</td>\n",
       "      <td>300</td>\n",
       "      <td>6</td>\n",
       "      <td>MANUAL</td>\n",
       "      <td>rear wheel drive</td>\n",
       "      <td>2</td>\n",
       "      <td>\"Luxury,High-Performance\"</td>\n",
       "      <td>Compact</td>\n",
       "      <td>Coupe</td>\n",
       "      <td>28</td>\n",
       "      <td>20</td>\n",
       "      <td>3916</td>\n",
       "      <td>36350</td>\n",
       "    </tr>\n",
       "    <tr>\n",
       "      <th>3</th>\n",
       "      <td>Audi</td>\n",
       "      <td>100</td>\n",
       "      <td>1992</td>\n",
       "      <td>regular unleaded</td>\n",
       "      <td>172</td>\n",
       "      <td>6</td>\n",
       "      <td>MANUAL</td>\n",
       "      <td>front wheel drive</td>\n",
       "      <td>4</td>\n",
       "      <td>Luxury</td>\n",
       "      <td>Midsize</td>\n",
       "      <td>Sedan</td>\n",
       "      <td>24</td>\n",
       "      <td>17</td>\n",
       "      <td>3105</td>\n",
       "      <td>2000</td>\n",
       "    </tr>\n",
       "    <tr>\n",
       "      <th>4</th>\n",
       "      <td>FIAT</td>\n",
       "      <td>124 Spider</td>\n",
       "      <td>2017</td>\n",
       "      <td>premium unleaded (recommended)</td>\n",
       "      <td>160</td>\n",
       "      <td>4</td>\n",
       "      <td>MANUAL</td>\n",
       "      <td>rear wheel drive</td>\n",
       "      <td>2</td>\n",
       "      <td>Performance</td>\n",
       "      <td>Compact</td>\n",
       "      <td>Convertible</td>\n",
       "      <td>35</td>\n",
       "      <td>26</td>\n",
       "      <td>819</td>\n",
       "      <td>27495</td>\n",
       "    </tr>\n",
       "  </tbody>\n",
       "</table>\n",
       "</div>"
      ],
      "text/plain": [
       "   Make       Model  Year                Engine Fuel Type Engine HP  \\\n",
       "0   BMW  1 Series M  2011     premium unleaded (required)       335   \n",
       "1   BMW    1 Series  2011     premium unleaded (required)       300   \n",
       "2   BMW    1 Series  2011     premium unleaded (required)       300   \n",
       "3  Audi         100  1992                regular unleaded       172   \n",
       "4  FIAT  124 Spider  2017  premium unleaded (recommended)       160   \n",
       "\n",
       "  Engine Cylinders Transmission Type      Driven_Wheels  Number of Doors  \\\n",
       "0                6            MANUAL   rear wheel drive                2   \n",
       "1                6            MANUAL   rear wheel drive                2   \n",
       "2                6            MANUAL   rear wheel drive                2   \n",
       "3                6            MANUAL  front wheel drive                4   \n",
       "4                4            MANUAL   rear wheel drive                2   \n",
       "\n",
       "                           Market Category Vehicle Size Vehicle Style  \\\n",
       "0  \"Factory Tuner,Luxury,High-Performance\"      Compact         Coupe   \n",
       "1                     \"Luxury,Performance\"      Compact   Convertible   \n",
       "2                \"Luxury,High-Performance\"      Compact         Coupe   \n",
       "3                                   Luxury      Midsize         Sedan   \n",
       "4                              Performance      Compact   Convertible   \n",
       "\n",
       "   highway MPG  city mpg  Popularity   MSRP  \n",
       "0           26        19        3916  46135  \n",
       "1           28        19        3916  40650  \n",
       "2           28        20        3916  36350  \n",
       "3           24        17        3105   2000  \n",
       "4           35        26         819  27495  "
      ]
     },
     "execution_count": 75,
     "metadata": {},
     "output_type": "execute_result"
    }
   ],
   "source": [
    "df"
   ]
  },
  {
   "cell_type": "code",
   "execution_count": null,
   "id": "7fa04d7d",
   "metadata": {},
   "outputs": [],
   "source": [
    "df = pd.DataFrame(data)"
   ]
  },
  {
   "cell_type": "code",
   "execution_count": 77,
   "id": "ece77be6",
   "metadata": {},
   "outputs": [
    {
     "data": {
      "text/html": [
       "<div>\n",
       "<style scoped>\n",
       "    .dataframe tbody tr th:only-of-type {\n",
       "        vertical-align: middle;\n",
       "    }\n",
       "\n",
       "    .dataframe tbody tr th {\n",
       "        vertical-align: top;\n",
       "    }\n",
       "\n",
       "    .dataframe thead th {\n",
       "        text-align: right;\n",
       "    }\n",
       "</style>\n",
       "<table border=\"1\" class=\"dataframe\">\n",
       "  <thead>\n",
       "    <tr style=\"text-align: right;\">\n",
       "      <th></th>\n",
       "      <th>Make</th>\n",
       "      <th>Model</th>\n",
       "      <th>Year</th>\n",
       "      <th>Engine Fuel Type</th>\n",
       "      <th>Engine HP</th>\n",
       "      <th>Engine Cylinders</th>\n",
       "      <th>Transmission Type</th>\n",
       "      <th>Driven_Wheels</th>\n",
       "      <th>Number of Doors</th>\n",
       "      <th>Market Category</th>\n",
       "      <th>Vehicle Size</th>\n",
       "      <th>Vehicle Style</th>\n",
       "      <th>highway MPG</th>\n",
       "      <th>city mpg</th>\n",
       "      <th>Popularity</th>\n",
       "      <th>MSRP</th>\n",
       "    </tr>\n",
       "  </thead>\n",
       "  <tbody>\n",
       "    <tr>\n",
       "      <th>0</th>\n",
       "      <td>BMW</td>\n",
       "      <td>1 Series M</td>\n",
       "      <td>2011</td>\n",
       "      <td>premium unleaded (required)</td>\n",
       "      <td>335</td>\n",
       "      <td>6</td>\n",
       "      <td>MANUAL</td>\n",
       "      <td>rear wheel drive</td>\n",
       "      <td>2</td>\n",
       "      <td>\"Factory Tuner,Luxury,High-Performance\"</td>\n",
       "      <td>Compact</td>\n",
       "      <td>Coupe</td>\n",
       "      <td>26</td>\n",
       "      <td>19</td>\n",
       "      <td>3916</td>\n",
       "      <td>46135</td>\n",
       "    </tr>\n",
       "    <tr>\n",
       "      <th>1</th>\n",
       "      <td>BMW</td>\n",
       "      <td>1 Series</td>\n",
       "      <td>2011</td>\n",
       "      <td>premium unleaded (required)</td>\n",
       "      <td>300</td>\n",
       "      <td>6</td>\n",
       "      <td>MANUAL</td>\n",
       "      <td>rear wheel drive</td>\n",
       "      <td>2</td>\n",
       "      <td>\"Luxury,Performance\"</td>\n",
       "      <td>Compact</td>\n",
       "      <td>Convertible</td>\n",
       "      <td>28</td>\n",
       "      <td>19</td>\n",
       "      <td>3916</td>\n",
       "      <td>40650</td>\n",
       "    </tr>\n",
       "    <tr>\n",
       "      <th>2</th>\n",
       "      <td>BMW</td>\n",
       "      <td>1 Series</td>\n",
       "      <td>2011</td>\n",
       "      <td>premium unleaded (required)</td>\n",
       "      <td>300</td>\n",
       "      <td>6</td>\n",
       "      <td>MANUAL</td>\n",
       "      <td>rear wheel drive</td>\n",
       "      <td>2</td>\n",
       "      <td>\"Luxury,High-Performance\"</td>\n",
       "      <td>Compact</td>\n",
       "      <td>Coupe</td>\n",
       "      <td>28</td>\n",
       "      <td>20</td>\n",
       "      <td>3916</td>\n",
       "      <td>36350</td>\n",
       "    </tr>\n",
       "    <tr>\n",
       "      <th>3</th>\n",
       "      <td>Audi</td>\n",
       "      <td>100</td>\n",
       "      <td>1992</td>\n",
       "      <td>regular unleaded</td>\n",
       "      <td>172</td>\n",
       "      <td>6</td>\n",
       "      <td>MANUAL</td>\n",
       "      <td>front wheel drive</td>\n",
       "      <td>4</td>\n",
       "      <td>Luxury</td>\n",
       "      <td>Midsize</td>\n",
       "      <td>Sedan</td>\n",
       "      <td>24</td>\n",
       "      <td>17</td>\n",
       "      <td>3105</td>\n",
       "      <td>2000</td>\n",
       "    </tr>\n",
       "    <tr>\n",
       "      <th>4</th>\n",
       "      <td>FIAT</td>\n",
       "      <td>124 Spider</td>\n",
       "      <td>2017</td>\n",
       "      <td>premium unleaded (recommended)</td>\n",
       "      <td>160</td>\n",
       "      <td>4</td>\n",
       "      <td>MANUAL</td>\n",
       "      <td>rear wheel drive</td>\n",
       "      <td>2</td>\n",
       "      <td>Performance</td>\n",
       "      <td>Compact</td>\n",
       "      <td>Convertible</td>\n",
       "      <td>35</td>\n",
       "      <td>26</td>\n",
       "      <td>819</td>\n",
       "      <td>27495</td>\n",
       "    </tr>\n",
       "  </tbody>\n",
       "</table>\n",
       "</div>"
      ],
      "text/plain": [
       "   Make       Model  Year                Engine Fuel Type Engine HP  \\\n",
       "0   BMW  1 Series M  2011     premium unleaded (required)       335   \n",
       "1   BMW    1 Series  2011     premium unleaded (required)       300   \n",
       "2   BMW    1 Series  2011     premium unleaded (required)       300   \n",
       "3  Audi         100  1992                regular unleaded       172   \n",
       "4  FIAT  124 Spider  2017  premium unleaded (recommended)       160   \n",
       "\n",
       "  Engine Cylinders Transmission Type      Driven_Wheels  Number of Doors  \\\n",
       "0                6            MANUAL   rear wheel drive                2   \n",
       "1                6            MANUAL   rear wheel drive                2   \n",
       "2                6            MANUAL   rear wheel drive                2   \n",
       "3                6            MANUAL  front wheel drive                4   \n",
       "4                4            MANUAL   rear wheel drive                2   \n",
       "\n",
       "                           Market Category Vehicle Size Vehicle Style  \\\n",
       "0  \"Factory Tuner,Luxury,High-Performance\"      Compact         Coupe   \n",
       "1                     \"Luxury,Performance\"      Compact   Convertible   \n",
       "2                \"Luxury,High-Performance\"      Compact         Coupe   \n",
       "3                                   Luxury      Midsize         Sedan   \n",
       "4                              Performance      Compact   Convertible   \n",
       "\n",
       "   highway MPG  city mpg  Popularity   MSRP  \n",
       "0           26        19        3916  46135  \n",
       "1           28        19        3916  40650  \n",
       "2           28        20        3916  36350  \n",
       "3           24        17        3105   2000  \n",
       "4           35        26         819  27495  "
      ]
     },
     "execution_count": 77,
     "metadata": {},
     "output_type": "execute_result"
    }
   ],
   "source": [
    "df"
   ]
  },
  {
   "cell_type": "code",
   "execution_count": 97,
   "id": "eef5c2c4",
   "metadata": {},
   "outputs": [
    {
     "data": {
      "text/html": [
       "<div>\n",
       "<style scoped>\n",
       "    .dataframe tbody tr th:only-of-type {\n",
       "        vertical-align: middle;\n",
       "    }\n",
       "\n",
       "    .dataframe tbody tr th {\n",
       "        vertical-align: top;\n",
       "    }\n",
       "\n",
       "    .dataframe thead th {\n",
       "        text-align: right;\n",
       "    }\n",
       "</style>\n",
       "<table border=\"1\" class=\"dataframe\">\n",
       "  <thead>\n",
       "    <tr style=\"text-align: right;\">\n",
       "      <th></th>\n",
       "      <th>Make</th>\n",
       "      <th>Model</th>\n",
       "      <th>Year</th>\n",
       "      <th>Engine Fuel Type</th>\n",
       "      <th>Engine HP</th>\n",
       "      <th>Engine Cylinders</th>\n",
       "      <th>Transmission Type</th>\n",
       "      <th>Driven_Wheels</th>\n",
       "      <th>Number of Doors</th>\n",
       "      <th>Market Category</th>\n",
       "      <th>Vehicle Size</th>\n",
       "      <th>Vehicle Style</th>\n",
       "      <th>highway MPG</th>\n",
       "      <th>city mpg</th>\n",
       "      <th>Popularity</th>\n",
       "      <th>MSRP</th>\n",
       "    </tr>\n",
       "  </thead>\n",
       "  <tbody>\n",
       "    <tr>\n",
       "      <th>0</th>\n",
       "      <td>BMW</td>\n",
       "      <td>1 Series M</td>\n",
       "      <td>2011</td>\n",
       "      <td>premium unleaded (required)</td>\n",
       "      <td>335</td>\n",
       "      <td>6</td>\n",
       "      <td>MANUAL</td>\n",
       "      <td>rear wheel drive</td>\n",
       "      <td>2</td>\n",
       "      <td>\"Factory Tuner,Luxury,High-Performance\"</td>\n",
       "      <td>Compact</td>\n",
       "      <td>Coupe</td>\n",
       "      <td>26</td>\n",
       "      <td>19</td>\n",
       "      <td>3916</td>\n",
       "      <td>46135</td>\n",
       "    </tr>\n",
       "    <tr>\n",
       "      <th>1</th>\n",
       "      <td>BMW</td>\n",
       "      <td>1 Series</td>\n",
       "      <td>2011</td>\n",
       "      <td>premium unleaded (required)</td>\n",
       "      <td>300</td>\n",
       "      <td>6</td>\n",
       "      <td>MANUAL</td>\n",
       "      <td>rear wheel drive</td>\n",
       "      <td>2</td>\n",
       "      <td>\"Luxury,Performance\"</td>\n",
       "      <td>Compact</td>\n",
       "      <td>Convertible</td>\n",
       "      <td>28</td>\n",
       "      <td>19</td>\n",
       "      <td>3916</td>\n",
       "      <td>40650</td>\n",
       "    </tr>\n",
       "    <tr>\n",
       "      <th>2</th>\n",
       "      <td>BMW</td>\n",
       "      <td>1 Series</td>\n",
       "      <td>2011</td>\n",
       "      <td>premium unleaded (required)</td>\n",
       "      <td>300</td>\n",
       "      <td>6</td>\n",
       "      <td>MANUAL</td>\n",
       "      <td>rear wheel drive</td>\n",
       "      <td>2</td>\n",
       "      <td>\"Luxury,High-Performance\"</td>\n",
       "      <td>Compact</td>\n",
       "      <td>Coupe</td>\n",
       "      <td>28</td>\n",
       "      <td>20</td>\n",
       "      <td>3916</td>\n",
       "      <td>36350</td>\n",
       "    </tr>\n",
       "  </tbody>\n",
       "</table>\n",
       "</div>"
      ],
      "text/plain": [
       "  Make       Model  Year             Engine Fuel Type Engine HP  \\\n",
       "0  BMW  1 Series M  2011  premium unleaded (required)       335   \n",
       "1  BMW    1 Series  2011  premium unleaded (required)       300   \n",
       "2  BMW    1 Series  2011  premium unleaded (required)       300   \n",
       "\n",
       "  Engine Cylinders Transmission Type     Driven_Wheels  Number of Doors  \\\n",
       "0                6            MANUAL  rear wheel drive                2   \n",
       "1                6            MANUAL  rear wheel drive                2   \n",
       "2                6            MANUAL  rear wheel drive                2   \n",
       "\n",
       "                           Market Category Vehicle Size Vehicle Style  \\\n",
       "0  \"Factory Tuner,Luxury,High-Performance\"      Compact         Coupe   \n",
       "1                     \"Luxury,Performance\"      Compact   Convertible   \n",
       "2                \"Luxury,High-Performance\"      Compact         Coupe   \n",
       "\n",
       "   highway MPG  city mpg  Popularity   MSRP  \n",
       "0           26        19        3916  46135  \n",
       "1           28        19        3916  40650  \n",
       "2           28        20        3916  36350  "
      ]
     },
     "execution_count": 97,
     "metadata": {},
     "output_type": "execute_result"
    }
   ],
   "source": [
    "df[(df['Make'] == 'BMW')]"
   ]
  },
  {
   "cell_type": "markdown",
   "id": "0003d1da",
   "metadata": {},
   "source": [
    "4. Найдите среднюю стоимость автомобиля BMW и выведите данное значение с точность до двух знаком после запятой."
   ]
  },
  {
   "cell_type": "code",
   "execution_count": 103,
   "id": "86ee7db8",
   "metadata": {},
   "outputs": [
    {
     "data": {
      "text/plain": [
       "30526.0"
      ]
     },
     "execution_count": 103,
     "metadata": {},
     "output_type": "execute_result"
    }
   ],
   "source": [
    "round(df['MSRP'].mean(), 2)"
   ]
  },
  {
   "cell_type": "markdown",
   "id": "efb4fd42",
   "metadata": {},
   "source": [
    "5. Определите каких автомобилей больше с ручной коробокой передач или автоматической?"
   ]
  },
  {
   "cell_type": "code",
   "execution_count": null,
   "id": "51bb3820",
   "metadata": {},
   "outputs": [
    {
     "ename": "SyntaxError",
     "evalue": "invalid syntax (<ipython-input-1-ce3c0690d3f4>, line 1)",
     "output_type": "error",
     "traceback": [
      "\u001B[1;36m  File \u001B[1;32m\"<ipython-input-1-ce3c0690d3f4>\"\u001B[1;36m, line \u001B[1;32m1\u001B[0m\n\u001B[1;33m    if (df['Transmission Type'] == 'MANUAL').sum() > (df['Transmission Type'] == 'AUTOMATIC').sum(): print('MANUAL') else: print('AUTOMATIC')\u001B[0m\n\u001B[1;37m                                                                                                                     ^\u001B[0m\n\u001B[1;31mSyntaxError\u001B[0m\u001B[1;31m:\u001B[0m invalid syntax\n"
     ]
    }
   ],
   "source": [
    "if (df['Transmission Type'] == 'MANUAL').sum() > (df['Transmission Type'] == 'AUTOMATIC').sum(): print('MANUAL') else: print('AUTOMATIC')"
   ]
  },
  {
   "cell_type": "code",
   "execution_count": null,
   "id": "ba72c1b0",
   "metadata": {},
   "outputs": [],
   "source": []
  },
  {
   "cell_type": "code",
   "execution_count": null,
   "id": "ec58d7df",
   "metadata": {},
   "outputs": [],
   "source": [
    "\n",
    "    "
   ]
  }
 ],
 "metadata": {
  "kernelspec": {
   "display_name": "Python 3",
   "language": "python",
   "name": "python3"
  },
  "language_info": {
   "codemirror_mode": {
    "name": "ipython",
    "version": 3
   },
   "file_extension": ".py",
   "mimetype": "text/x-python",
   "name": "python",
   "nbconvert_exporter": "python",
   "pygments_lexer": "ipython3",
   "version": "3.8.8"
  }
 },
 "nbformat": 4,
 "nbformat_minor": 5
}