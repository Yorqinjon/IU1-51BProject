{
 "cells": [
  {
   "cell_type": "code",
   "execution_count": 1,
   "id": "bc07d785",
   "metadata": {},
   "outputs": [],
   "source": [
    "#Задача 1"
   ]
  },
  {
   "cell_type": "code",
   "execution_count": 26,
   "id": "2df5550e",
   "metadata": {},
   "outputs": [],
   "source": [
    "import math"
   ]
  },
  {
   "cell_type": "code",
   "execution_count": 27,
   "id": "c7227f04",
   "metadata": {},
   "outputs": [],
   "source": [
    "def gorner (polyn , n,x):\n",
    "    result = polyn[0]\n",
    "    for i in range (1,n):\n",
    "        result = result*x + polyn[i]\n",
    "    return result"
   ]
  },
  {
   "cell_type": "code",
   "execution_count": 28,
   "id": "017ba2e6",
   "metadata": {},
   "outputs": [
    {
     "name": "stdout",
     "output_type": "stream",
     "text": [
      "1.0010005001667084\n",
      "0.0\n"
     ]
    }
   ],
   "source": [
    "def exp(x,n):\n",
    "    result = 1/math.factorial(n)\n",
    "    for i in range(n-1,-1,-1):\n",
    "        result = result*x+(1/math.factorial(i))\n",
    "    return result\n",
    "print(exp(0.001,1000))\n",
    "\n",
    "print(exp(0.001,1000)-math.exp(0.001))"
   ]
  },
  {
   "cell_type": "code",
   "execution_count": 29,
   "id": "b9c57923",
   "metadata": {},
   "outputs": [],
   "source": [
    "#Задача 2"
   ]
  },
  {
   "cell_type": "code",
   "execution_count": 30,
   "id": "f0c98900",
   "metadata": {},
   "outputs": [],
   "source": [
    "import calendar"
   ]
  },
  {
   "cell_type": "code",
   "execution_count": 31,
   "id": "c95ef997",
   "metadata": {},
   "outputs": [
    {
     "name": "stdout",
     "output_type": "stream",
     "text": [
      "   December 2021\n",
      "Mo Tu We Th Fr Sa Su\n",
      "       1  2  3  4  5\n",
      " 6  7  8  9 10 11 12\n",
      "13 14 15 16 17 18 19\n",
      "20 21 22 23 24 25 26\n",
      "27 28 29 30 31\n",
      "\n"
     ]
    }
   ],
   "source": [
    "month = 12\n",
    "year = 2021\n",
    "\n",
    "print(calendar.month(year,month))"
   ]
  },
  {
   "cell_type": "code",
   "execution_count": 32,
   "id": "3104bfc8",
   "metadata": {},
   "outputs": [],
   "source": [
    "#Задача 3"
   ]
  },
  {
   "cell_type": "code",
   "execution_count": 33,
   "id": "3fa911c7",
   "metadata": {},
   "outputs": [
    {
     "name": "stdout",
     "output_type": "stream",
     "text": [
      "{2: 1, 3: 2, 4: 3, 5: 4, 6: 5, 7: 6, 8: 5, 9: 4, 10: 3, 11: 2, 12: 1}\n",
      "{2: 1, 3: 2, 4: 3, 5: 4, 6: 5, 7: 6, 8: 5, 9: 4, 10: 3, 11: 2, 12: 1}\n"
     ]
    }
   ],
   "source": [
    "A = [1,3,4,5,6,8]\n",
    "B = [1,2,2,3,3,4]\n",
    "standard_dice = [1,2,3,4,5,6]\n",
    "def sum(first_gie,second_gie):\n",
    "  dict = {}\n",
    "  for i in first_gie:\n",
    "    for j in second_gie:\n",
    "      sum = i + j\n",
    "      if sum not in dict.keys():\n",
    "        dict[sum] = 1\n",
    "      else:\n",
    "        dict[sum]+=1\n",
    "  return dict\n",
    "\n",
    "print(sum(A,B))\n",
    "\n",
    "print(sum(standard_dice,standard_dice))"
   ]
  },
  {
   "cell_type": "code",
   "execution_count": null,
   "id": "dcca7ad7",
   "metadata": {},
   "outputs": [],
   "source": []
  }
 ],
 "metadata": {
  "kernelspec": {
   "display_name": "Python 3",
   "language": "python",
   "name": "python3"
  },
  "language_info": {
   "codemirror_mode": {
    "name": "ipython",
    "version": 3
   },
   "file_extension": ".py",
   "mimetype": "text/x-python",
   "name": "python",
   "nbconvert_exporter": "python",
   "pygments_lexer": "ipython3",
   "version": "3.8.8"
  }
 },
 "nbformat": 4,
 "nbformat_minor": 5
}
